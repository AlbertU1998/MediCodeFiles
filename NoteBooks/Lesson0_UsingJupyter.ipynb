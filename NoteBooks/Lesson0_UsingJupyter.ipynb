{
 "cells": [
  {
   "cell_type": "markdown",
   "metadata": {
    "slideshow": {
     "slide_type": "slide"
    }
   },
   "source": [
    "<div class=\"back\"> \n",
    "    <br>\n",
    "    <p class=\"topboi\"> Welcome to Jupyter </p>\n",
    "    <br>\n",
    "    <p class = \"ex\"> Exercise 1 </p>\n",
    "    <p class = \"content\" >\n",
    "        Congratulations on taking your first step into learning the useful skill of programming, I'll try to make it as painless as possible ;-). First thing I want you to do is go to <b><i>Kernel</i></b> above and select <b><i>Restart and run all</i></b>. This ensures the formatting fo the notebook is correct. If you dont see pretty blue sections when you open a notebook of mine, try this. \n",
    "    </p>\n",
    "    <p class = \"content\">\n",
    "        This is Jupyter and its my personal favourite text editor for python. There are two modes in Jupyter notebooks;\n",
    "        <ul class = \"content\">\n",
    "            <li>Command mode, hit <b>esc</b> to access this</li>\n",
    "            <li>Edit mode, hit <b>Enter</b> when a cell is selected to enter this</li>\n",
    "        </ul>\n",
    "    </p>\n",
    "    <p class = \"content\">\n",
    "        All code execution in this notebook environment is done within cells, <b>code</b> cells execute code you have written when they are run. The cell you're reading now is called a <b>Markdown</b> cell, I've used them throughout the lessons to make the content a little prettier\n",
    "    </p>\n",
    "    <p class = \"content\" style=\"color: #0075C1;\">\n",
    "            Have a go entering command and edit mode with the cell I've so kindly made for you below! The cells outline should change colour to indicate when you have switched modes.\n",
    "    </p> \n",
    "</div>"
   ]
  },
  {
   "cell_type": "code",
   "execution_count": null,
   "metadata": {},
   "outputs": [],
   "source": []
  },
  {
   "cell_type": "markdown",
   "metadata": {},
   "source": [
    "<div class=\"back\">\n",
    "    <p class = \"content\" >\n",
    "        In command mode, there are lots of commands you can use to navigate and modify your notebook. \n",
    "        <ul class = \"content\">\n",
    "            <li>Use the <b>Arrow keys</b> to move from cell to cell</li>\n",
    "            <li>Hit <b>a</b> to create a new cell above</li>\n",
    "            <li>Hit <b>b</b> to create a new cell below</li>\n",
    "            <li><b>Shift + Enter</b> executes (runs) a cell</li>\n",
    "            <li>Hit <b>p</b> to see the full list of available commands!\n",
    "        </ul>\n",
    "    </p>\n",
    "    <p class = \"content\" style=\"color: #0075C1;\">\n",
    "            Try using the new commands you've learnt below!\n",
    "    </p> \n",
    "    <p class = \"content\">\n",
    "        NB: If you accidently double click (enter edit mode) on one of my markdown cells and see a bunch of scary looking code, dont panic! Just run that cell and it should return to normal\n",
    "    </p>\n",
    "</div> \n"
   ]
  },
  {
   "cell_type": "code",
   "execution_count": null,
   "metadata": {},
   "outputs": [],
   "source": []
  },
  {
   "cell_type": "markdown",
   "metadata": {},
   "source": [
    "<div class=\"back\">\n",
    "    <p class = \"content\" >\n",
    "        Finally I want to introduce to comments. Within a code cell, any line of text preceeded by the <b>#</b> symbol will be ignored by the interpreter. These are referred to as comments and it is good practice to use them when your code isn't clear.\n",
    "    </p>\n",
    "    <p class = \"content\" style=\"color: #0075C1;\">\n",
    "            Try using comments below!!\n",
    "    </p> \n",
    "</div> "
   ]
  },
  {
   "cell_type": "code",
   "execution_count": 1,
   "metadata": {},
   "outputs": [],
   "source": [
    "# example comment"
   ]
  },
  {
   "cell_type": "markdown",
   "metadata": {},
   "source": [
    "<div class=\"back\">\n",
    "    <p class = \"content\" style=\"color: #0075C1;\">\n",
    "            Orientation over, now lets get into the meat of your coding adventure in subsequent lessons!\n",
    "    </p> \n",
    "</div> "
   ]
  },
  {
   "cell_type": "code",
   "execution_count": 2,
   "metadata": {
    "scrolled": false
   },
   "outputs": [
    {
     "data": {
      "text/html": [
       "<style>\n",
       "    .back\n",
       "    {\n",
       "        background-color: #DEFEFF; \n",
       "        color: #0075C1; \n",
       "        border-top-style: solid;\n",
       "        border-top-width: 5px;\n",
       "        padding-bottom: 7px;\n",
       "        padding-left: 50px;\n",
       "        padding-right: 50px;\n",
       "        \n",
       "\n",
       "    }\n",
       "\n",
       "    .topboi\n",
       "    {\n",
       "        text-align: center;\n",
       "        font-size: 30px;\n",
       "        font-weight: bold;\n",
       "        max-width: 500px;\n",
       "        margin: 7px auto 7px auto;\n",
       "    }\n",
       "\n",
       "    .ex\n",
       "    {\n",
       "        font-size: 20px;\n",
       "        color: #0075C1;\n",
       "        max-width: 500px;\n",
       "        margin: 7px auto 7px auto;\n",
       "        padding-left: 5px;\n",
       "    }\n",
       "\n",
       "    .content\n",
       "    {\n",
       "        color: black;\n",
       "        max-width: 500px;\n",
       "        margin: 7px auto 7px auto;\n",
       "        border-left: 1px solid #0075C1;\n",
       "        padding-left: 5px;\n",
       "    }\n",
       "\n",
       "    .buffer\n",
       "    {\n",
       "        margin-left: -250px;\n",
       "        height: 25px;\n",
       "        width: 50%;\n",
       "        float: left;\n",
       "    }\n",
       "\n",
       "</style>"
      ],
      "text/plain": [
       "<IPython.core.display.HTML object>"
      ]
     },
     "execution_count": 2,
     "metadata": {},
     "output_type": "execute_result"
    }
   ],
   "source": [
    "#Do not delete this cell! it imports all the formatting settings to make the notebook look pretty :-)\n",
    "from IPython.core.display import display, HTML\n",
    "HTML(open(\"flex.css\").read())"
   ]
  }
 ],
 "metadata": {
  "kernelspec": {
   "display_name": "Python 3",
   "language": "python",
   "name": "python3"
  },
  "language_info": {
   "codemirror_mode": {
    "name": "ipython",
    "version": 3
   },
   "file_extension": ".py",
   "mimetype": "text/x-python",
   "name": "python",
   "nbconvert_exporter": "python",
   "pygments_lexer": "ipython3",
   "version": "3.8.3"
  }
 },
 "nbformat": 4,
 "nbformat_minor": 4
}

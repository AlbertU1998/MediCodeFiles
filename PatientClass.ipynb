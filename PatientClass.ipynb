{
 "cells": [
  {
   "cell_type": "markdown",
   "metadata": {},
   "source": [
    "<div class = \"back\">\n",
    "    <br>\n",
    "    <p class = \"topboi\"> Time for an example </p>\n",
    "    <br>\n",
    "    <p class = \"content\" style = \"color: #0075C1;\">\n",
    "        <b>The most common use case for python with healthcare is for data analysis and comprehension, for any of you familaiar with cerner you'll agree that the quantity if health meta-data available to the NHS is immense. From a reseacrh perspective, this reservoir of data is like a vast unexplored sea, with retrospective discoveries being a common occurence. Researchers have based current research on thirty year old data! </b>\n",
    "    </p>\n",
    "    <p class = \"ex\"> Exercise </p>\n",
    "    <p class = \"content\">\n",
    "        Lets have a play around with some data for ourselves, below I provide the code I used to interpret the data provided in the lecture. This is a miniscule example but programming is all about easy scaling, so the tools you use here may easily be transferred to data sets with thousands of entries!\n",
    "    </p>\n",
    "</div>\n",
    "\n",
    "\n",
    "```python\n",
    "\n",
    "data = 'Cristionna,Matthewson,2,5,119,111,101,129,153-Bear,Ebbetts,46,8,154,110,159,152,123-Tabby,Shouler,33,5,159,156,159,118,166-Mariana,Vasyutochkin,18,14,114,115,105,142,160-Fanchette,McKeever,33,12,129,118,145,161,111-Casey,Steinham,5,12,117,134,166,179,165-Urbano,Petrolli,17,9,165,145,134,165,120-Jim,Zarb,20,13,146,101,100,134,162-Ursa,Lathleiffure,18,5,147,167,168,126,151-Celestia,Plitz,0,6,117,120,177,130,102'\n",
    "\n",
    "#split the data string with respect to hyphens\n",
    "data = data.strip().split(\"-\")\n",
    "\n",
    "#split each entry into its constituent sub-entries\n",
    "splitter = lambda string : string.split(\",\")\n",
    "data = list(map(splitter, data))\n",
    "\n",
    "class Patient:\n",
    "    def __init__(self, first, second, age, bp_series, glucose = 5):\n",
    "        self.first = first\n",
    "        self.second = second\n",
    "        self.age = age\n",
    "        self.bp_series = list(map(int, bp_series))\n",
    "        self.diabetic = int(glucose) > 7\n",
    "    \n",
    "    def update_bp(self, bp):\n",
    "        self.bp_series.append(bp)\n",
    "    \n",
    "    def get_average(self):\n",
    "        return sum(self.bp_series) / len(self.bp_series)\n",
    "    \n",
    "    def summarise(self):\n",
    "        print(self.first, self.second, \"is a \", self.age, \"year old\", end = \" \")\n",
    "        print(\"diabetic\" if self.diabetic else \"non-diabetic\", end = \" \")\n",
    "        print(\"with an average BP of\", self.get_average(), \"mmHG\")\n",
    "\n",
    "#create each patient object from the entries\n",
    "patient_objects = {}\n",
    "for row in data:\n",
    "    name = row[0] + \" \" + row[1]\n",
    "    new_patient = Patient(row[0], row[1], row[2], row[4:], row[3])\n",
    "    patient_objects.update( { name : new_patient } )\n",
    "\n",
    "#demonstrate\n",
    "patient_objects[\"Bear Ebbetts\"].summarise()\n",
    "``` \n",
    "\n",
    "<div class = \"back\">\n",
    "    <p class = \"content\" style = \"color: #0075C1\">\n",
    "        The proverbial ball is now in your court, see how you can add further functionality to the code example above!\n",
    "    </p>\n",
    "    <ul class = \"content\" style = \"color: #0075C1\">\n",
    "        <li>make sure you first get to grips with what is going on in the code</li>\n",
    "        <li>Do not be afraid to ask questions!!</li>\n",
    "        <li>Can you add more patient characteristics?</li>\n",
    "    </ul>\n",
    "</div>"
   ]
  },
  {
   "cell_type": "code",
   "execution_count": 7,
   "metadata": {},
   "outputs": [
    {
     "name": "stdout",
     "output_type": "stream",
     "text": [
      "Bear Ebbetts is a  46 year old non-diabetic with an average BP of 139.6 mmHG\n"
     ]
    },
    {
     "data": {
      "text/plain": [
       "[119, 111, 101, 129, 153]"
      ]
     },
     "execution_count": 7,
     "metadata": {},
     "output_type": "execute_result"
    }
   ],
   "source": [
    "data = 'Cristionna,Matthewson,2,5,119,111,101,129,153-Bear,Ebbetts,46,8,154,110,159,152,123-Tabby,Shouler,33,5,159,156,159,118,166-Mariana,Vasyutochkin,18,14,114,115,105,142,160-Fanchette,McKeever,33,12,129,118,145,161,111-Casey,Steinham,5,12,117,134,166,179,165-Urbano,Petrolli,17,9,165,145,134,165,120-Jim,Zarb,20,13,146,101,100,134,162-Ursa,Lathleiffure,18,5,147,167,168,126,151-Celestia,Plitz,0,6,117,120,177,130,102'\n",
    "\n",
    "#split the data string with respect to hyphens\n",
    "data = data.strip().split(\"-\")\n",
    "\n",
    "#split each entry into its constituent sub-entries\n",
    "splitter = lambda string : string.split(\",\")\n",
    "data = list(map(splitter, data))\n",
    "\n",
    "class Patient:\n",
    "    def __init__(self, first, second, age, bp_series, glucose = 5):\n",
    "        self.first = first\n",
    "        self.second = second\n",
    "        self.age = age\n",
    "        self.bp_series = list(map(int, bp_series))\n",
    "        self.diabetic = int(glucose) > 7\n",
    "\n",
    "    def update_bp(self, bp):\n",
    "        self.bp_series.append(bp)\n",
    "\n",
    "    def get_average(self):\n",
    "        return sum(self.bp_series) / len(self.bp_series)\n",
    "    \n",
    "    def max_bp(self, threshold):\n",
    "        greatest_bp = max(self.bp_series)\n",
    "        return greatest_bp > threshold\n",
    "\n",
    "    def summarise(self):\n",
    "        print(self.first, self.second, \"is a \", self.age, \"year old\", end = \" \")\n",
    "        print(\"diabetic\" if self.diabetic else \"non-diabetic\", end = \" \")\n",
    "        print(\"with an average BP of\", self.get_average(), \"mmHG\")\n",
    "        \n",
    "    def update(self, new_age = None, new_bm = None):\n",
    "        if new_age:\n",
    "            self.age = new_age\n",
    "        if new_bm:\n",
    "            self.diabetic = new_bm > 7\n",
    "\n",
    "#create each patient object from the entries\n",
    "patient_objects = {}\n",
    "for row in data:\n",
    "    name = row[0] + \" \" + row[1]\n",
    "    new_patient = Patient(row[0], row[1], row[2], row[4:], row[3])\n",
    "    patient_objects.update( { name : new_patient } )\n",
    "\n",
    "#demonstrate\n",
    "patient_objects[\"Bear Ebbetts\"].update(new_bm = 2)\n",
    "patient_objects[\"Bear Ebbetts\"].summarise()\n",
    "patient_objects[\"Cristionna Matthewson\"].max_bp(120)\n",
    "patient_objects[\"Cristionna Matthewson\"].bp_series"
   ]
  },
  {
   "cell_type": "code",
   "execution_count": 13,
   "metadata": {},
   "outputs": [
    {
     "data": {
      "text/plain": [
       "True"
      ]
     },
     "execution_count": 13,
     "metadata": {},
     "output_type": "execute_result"
    }
   ],
   "source": [
    "class Cohort:\n",
    "    def __init__(self):\n",
    "        self.patient_list = []\n",
    "        \n",
    "    def update(self, patient):\n",
    "        self.patient_list.append(patient)\n",
    "        \n",
    "    def check(self, patient_name):\n",
    "        for patient in self.patient_list:\n",
    "            if patient_name.lower() == patient.first + \" \" + patient.second:\n",
    "                return True\n",
    "        return False\n",
    "        \n",
    "my_Cohort = Cohort()\n",
    "\n",
    "patient_objects = {}\n",
    "for row in data:\n",
    "    new_patient = Patient(row[0].lower(), row[1].lower(), row[2], row[4:], row[3])\n",
    "    my_Cohort.update(new_patient)\n",
    "\n",
    "my_Cohort.check(\"bear ebbetts\")\n",
    "    "
   ]
  },
  {
   "cell_type": "markdown",
   "metadata": {},
   "source": [
    "<div class = \"back\">\n",
    "    <p class = \"ex\"> Extension task </p>\n",
    "    <p class = \"content\">\n",
    "        For the daring among you why don't you try creating a \"cohort\" class/object that provides an interface to <b>all</b> patients? This could be used to do the following:\n",
    "    </p>\n",
    "    <ul class = \"content\" style = \"color: #0075C1\">\n",
    "        <li>You could use this to quickly get a cohort average</li>\n",
    "        <li>Make it easier to add and delet patinets</li>\n",
    "        <li>Allow for easy querying of your patient list</li>\n",
    "    </ul>\n",
    "</div>"
   ]
  },
  {
   "cell_type": "code",
   "execution_count": null,
   "metadata": {},
   "outputs": [],
   "source": []
  },
  {
   "cell_type": "code",
   "execution_count": null,
   "metadata": {},
   "outputs": [],
   "source": []
  },
  {
   "cell_type": "code",
   "execution_count": 1,
   "metadata": {},
   "outputs": [
    {
     "data": {
      "text/html": [
       "<style>\n",
       "    .back\n",
       "    {\n",
       "        background-color: #DEFEFF; \n",
       "        color: #0075C1; \n",
       "        border-top-style: solid;\n",
       "        border-top-width: 5px;\n",
       "        padding-bottom: 7px;\n",
       "        padding-left: 50px;\n",
       "        padding-right: 50px;\n",
       "        \n",
       "\n",
       "    }\n",
       "\n",
       "    .topboi\n",
       "    {\n",
       "        text-align: center;\n",
       "        font-size: 30px;\n",
       "        font-weight: bold;\n",
       "        max-width: 500px;\n",
       "        margin: 7px auto 7px auto;\n",
       "    }\n",
       "\n",
       "    .ex\n",
       "    {\n",
       "        font-size: 20px;\n",
       "        color: #0075C1;\n",
       "        max-width: 500px;\n",
       "        margin: 7px auto 7px auto;\n",
       "        padding-left: 5px;\n",
       "    }\n",
       "\n",
       "    .content\n",
       "    {\n",
       "        color: black;\n",
       "        max-width: 500px;\n",
       "        margin: 7px auto 7px auto;\n",
       "        border-left: 1px solid #0075C1;\n",
       "        padding-left: 5px;\n",
       "    }\n",
       "\n",
       "    .buffer\n",
       "    {\n",
       "        margin-left: -250px;\n",
       "        height: 25px;\n",
       "        width: 50%;\n",
       "        float: left;\n",
       "    }\n",
       "\n",
       "</style>"
      ],
      "text/plain": [
       "<IPython.core.display.HTML object>"
      ]
     },
     "execution_count": 1,
     "metadata": {},
     "output_type": "execute_result"
    }
   ],
   "source": [
    "from IPython.core.display import HTML\n",
    "HTML(open(\"flex.css\").read())"
   ]
  },
  {
   "cell_type": "code",
   "execution_count": null,
   "metadata": {},
   "outputs": [],
   "source": []
  }
 ],
 "metadata": {
  "kernelspec": {
   "display_name": "Python 3",
   "language": "python",
   "name": "python3"
  },
  "language_info": {
   "codemirror_mode": {
    "name": "ipython",
    "version": 3
   },
   "file_extension": ".py",
   "mimetype": "text/x-python",
   "name": "python",
   "nbconvert_exporter": "python",
   "pygments_lexer": "ipython3",
   "version": "3.8.3"
  }
 },
 "nbformat": 4,
 "nbformat_minor": 4
}
